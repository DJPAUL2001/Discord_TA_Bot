{
 "cells": [
  {
   "cell_type": "code",
   "execution_count": 46,
   "metadata": {},
   "outputs": [
    {
     "data": {
      "text/markdown": [
       "Hello! How's your day going so far?"
      ],
      "text/plain": [
       "<IPython.core.display.Markdown object>"
      ]
     },
     "metadata": {},
     "output_type": "display_data"
    }
   ],
   "source": [
    "from chatLib import get_response\n",
    "\n",
    "get_response(\"Hello. Just say hello back. Nothing else!\")"
   ]
  },
  {
   "cell_type": "code",
   "execution_count": 42,
   "metadata": {},
   "outputs": [
    {
     "data": {
      "text/markdown": [
       "Of course! Converting Python code into a string is quite straightforward. You'll want to enclose the code in triple quotes, which will allow you to capture multiple lines at once, including docstrings and special characters, without escaping them manually. Here’s a step-by-step approach:\n",
       "\n",
       "1. **Open and Close with Triple Quotes**: Start and end the string with either `'''` (triple single quotes) or `\"\"\"` (triple double quotes). This signifies a multi-line string in Python.\n",
       "\n",
       "2. **Copy the Code As-Is**: Paste your code block between these triple quotes exactly as it is, without modifying or escaping any of the characters.\n",
       "\n",
       "Below is a simple example illustrating how you can convert a sample Python function that includes a docstring, a print statement, and a variable assignment into a string:\n",
       "\n",
       "```python\n",
       "code_as_string = \"\"\"\n",
       "def greet(name):\n",
       "    \\\"\"\"\n",
       "    This function greets the person whose name is passed in as a parameter.\n",
       "    \\\"\"\"\n",
       "    greeting = 'Hello, ' + name + '!'\n",
       "    print(greeting)\n",
       "\n",
       "greet('Alice')\n",
       "\"\"\"\n",
       "\n",
       "print(code_as_string)\n",
       "```\n",
       "\n",
       "3. **Special Considerations with Triple Quotes in Docstrings**: If your code contains triple quotes within its docstrings or comments, you need to be a bit careful. Triple quotes within the string can unintentionally terminate the string. In such cases, you could:\n",
       "\n",
       "- **Escape the Triple Quotes**: Use a backslash (`\\`) to escape the triple quotes inside the code. This prevents Python from interpreting it as the end of the string.\n",
       "\n",
       "or\n",
       "\n",
       "- **Use a Different Set of Triple Quotes**: If your code contains triple double quotes, use triple single quotes to enclose the string and vice versa.\n",
       "\n",
       "Here’s how you might deal with an embedded triple quote:\n",
       "\n",
       "```python\n",
       "code_as_string_with_triple_quotes = '''\n",
       "def example_function():\n",
       "    \"\"\"\n",
       "    This is a docstring with \"triple double quotes\" inside it, which are escaped.\n",
       "    \"\"\"\n",
       "    print(\"Here's an example of escaping triple quotes inside a string.\")\n",
       "'''\n",
       "\n",
       "print(code_as_string_with_triple_quotes)\n",
       "```\n",
       "\n",
       "Remember to always make sure that the method you choose for enclosing your code in a string does not clash with the contents of the code. Be mindful of situations where triple quotes are used within your code and handle them as previously described. This way, you can safely convert and handle any piece of Python code into a string, regardless of its complexity or the special characters it may contain."
      ],
      "text/plain": [
       "<IPython.core.display.Markdown object>"
      ]
     },
     "metadata": {},
     "output_type": "display_data"
    }
   ],
   "source": [
    "get_response(rf\"\"\"\n",
    "                How do I convert a piece of python code into a string? It should be able to handle all the special characters, including docstrings.\n",
    "             \"\"\")"
   ]
  },
  {
   "cell_type": "code",
   "execution_count": 38,
   "metadata": {},
   "outputs": [],
   "source": [
    "# from IPython.display import display, Markdown\n",
    "\n",
    "# display(Markdown(\n",
    "#         rf\"\"\"\n",
    "#         {get_reponse(\"List some good philosophical questions. Be very brief.\")}\n",
    "#         \"\"\"))"
   ]
  }
 ],
 "metadata": {
  "kernelspec": {
   "display_name": "Python 3",
   "language": "python",
   "name": "python3"
  },
  "language_info": {
   "codemirror_mode": {
    "name": "ipython",
    "version": 3
   },
   "file_extension": ".py",
   "mimetype": "text/x-python",
   "name": "python",
   "nbconvert_exporter": "python",
   "pygments_lexer": "ipython3",
   "version": "3.10.12"
  }
 },
 "nbformat": 4,
 "nbformat_minor": 2
}
