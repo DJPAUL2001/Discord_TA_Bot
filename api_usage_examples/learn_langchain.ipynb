{
 "cells": [
  {
   "cell_type": "code",
   "execution_count": 24,
   "metadata": {},
   "outputs": [],
   "source": [
    "from langchain_openai import ChatOpenAI\n",
    "from langchain.prompts.prompt import PromptTemplate\n",
    "from langchain.memory import ConversationSummaryBufferMemory\n",
    "from langchain.chains import ConversationChain\n",
    "\n",
    "from dotenv import load_dotenv\n",
    "import os\n",
    "\n",
    "load_dotenv()\n",
    "llm_model = \"gpt-3.5-turbo-1106\"\n",
    "llm = ChatOpenAI(api_key=os.getenv(\"OPENAI_KEY\"), temperature=0.0, model=llm_model)"
   ]
  },
  {
   "cell_type": "markdown",
   "metadata": {},
   "source": [
    "### Using ConversationSummaryBufferMemory and ConversationChain"
   ]
  },
  {
   "cell_type": "code",
   "execution_count": 58,
   "metadata": {},
   "outputs": [
    {
     "name": "stdout",
     "output_type": "stream",
     "text": [
      "\n",
      "\n",
      "\u001b[1m> Entering new ConversationChain chain...\u001b[0m\n",
      "Prompt after formatting:\n",
      "\u001b[32;1m\u001b[1;3m\n",
      "Follow the user's instructions carefully. \n",
      "Respond using markdown. DO NOT SHARE ANY CODE AT ANY TIME. Only use words or pseudocode.\n",
      "You're a Makecode expert and a high school computer science teacher responding to student questions. \n",
      "Be as brief as possible. Make sure your response does not exceed 2000 characters, including any code examples.\n",
      "If the teacher does not know the answer to a question, the teacher truthfully says, \"I don't know\".\n",
      "DO NOT EXCEED 2000 CHARACTERS.\n",
      "\n",
      "Current conversation:\n",
      "Student: What is a variable?\n",
      "Teacher: A variable is a storage location and an associated symbolic name (an identifier), which contains some known or unknown quantity of information referred to as a value.\n",
      "Student: What is a variable?\n",
      "Teacher:\u001b[0m\n",
      "\n",
      "\u001b[1m> Finished chain.\u001b[0m\n"
     ]
    },
    {
     "data": {
      "text/plain": [
       "'A variable is a storage location and an associated symbolic name (an identifier), which contains some known or unknown quantity of information referred to as a value.'"
      ]
     },
     "execution_count": 58,
     "metadata": {},
     "output_type": "execute_result"
    }
   ],
   "source": [
    "template = \"\"\"\n",
    "Follow the user's instructions carefully. \n",
    "Respond using markdown. DO NOT SHARE ANY CODE AT ANY TIME. Only use words or pseudocode.\n",
    "You're a Makecode expert and a high school computer science teacher responding to student questions. \n",
    "Be as brief as possible. Make sure your response does not exceed 2000 characters, including any code examples.\n",
    "If the teacher does not know the answer to a question, the teacher truthfully says, \"I don't know\".\n",
    "DO NOT EXCEED 2000 CHARACTERS.\n",
    "\n",
    "Current conversation:\n",
    "{history}\n",
    "Student: {input}\n",
    "Teacher:\"\"\"\n",
    "\n",
    "memory = ConversationSummaryBufferMemory(llm=llm, ai_prefix=\"Teacher\", human_prefix=\"Student\", max_token_limit=1000)\n",
    "memory.chat_memory.add_user_message(\"What is a variable?\")\n",
    "memory.chat_memory.add_ai_message(\"A variable is a storage location and an associated symbolic name (an identifier), which contains some known or unknown quantity of information referred to as a value.\")\n",
    "# memory.save_context({\"input\": \"Hello\"}, {\"output\": \"What's up\"})\n",
    "# memory.save_context({\"input\": \"Not much, just hanging\"},\n",
    "#                     {\"output\": \"Cool\"})\n",
    "PROMPT = PromptTemplate(input_variables=[\"history\", \"input\", \"delimiter\"], template=template)\n",
    "conversation = ConversationChain(\n",
    "    prompt=PROMPT,\n",
    "    llm=llm,\n",
    "    verbose=True,\n",
    "    memory=memory,\n",
    ")\n",
    "conversation.predict(input=\"What is a variable?\")"
   ]
  },
  {
   "cell_type": "markdown",
   "metadata": {},
   "source": [
    "### Using Regular Syntax"
   ]
  },
  {
   "cell_type": "code",
   "execution_count": 53,
   "metadata": {},
   "outputs": [
    {
     "data": {
      "text/plain": [
       "'The capital of France is Paris.'"
      ]
     },
     "execution_count": 53,
     "metadata": {},
     "output_type": "execute_result"
    }
   ],
   "source": [
    "from langchain.schema.messages import HumanMessage, SystemMessage, AIMessage\n",
    "messages = [\n",
    "    SystemMessage(content=\"You are Micheal Jordan.\"),\n",
    "    HumanMessage(content=\"Which shoe manufacturer are you associated with?\"),\n",
    "    AIMessage(content=\"I don't know\"),\n",
    "    HumanMessage(content=\"What is the capital of France?\"),\n",
    "]\n",
    "llm(messages).content"
   ]
  }
 ],
 "metadata": {
  "kernelspec": {
   "display_name": "project_venv",
   "language": "python",
   "name": "python3"
  },
  "language_info": {
   "codemirror_mode": {
    "name": "ipython",
    "version": 3
   },
   "file_extension": ".py",
   "mimetype": "text/x-python",
   "name": "python",
   "nbconvert_exporter": "python",
   "pygments_lexer": "ipython3",
   "version": "3.10.12"
  }
 },
 "nbformat": 4,
 "nbformat_minor": 2
}
